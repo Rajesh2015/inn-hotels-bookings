{
  "nbformat": 4,
  "nbformat_minor": 0,
  "metadata": {
    "colab": {
      "provenance": [],
      "authorship_tag": "ABX9TyO1pq0AsASQrnf0vscxIyzh",
      "include_colab_link": true
    },
    "kernelspec": {
      "name": "python3",
      "display_name": "Python 3"
    },
    "language_info": {
      "name": "python"
    }
  },
  "cells": [
    {
      "cell_type": "markdown",
      "metadata": {
        "id": "view-in-github",
        "colab_type": "text"
      },
      "source": [
        "<a href=\"https://colab.research.google.com/github/Rajesh2015/inn-hotels-bookings/blob/main/inn_hote_bookings_solution.ipynb\" target=\"_parent\"><img src=\"https://colab.research.google.com/assets/colab-badge.svg\" alt=\"Open In Colab\"/></a>"
      ]
    },
    {
      "cell_type": "markdown",
      "source": [
        "## Inn Hotels Bookings\n",
        "#### Context\n",
        "A significant number of hotel bookings are called off due to cancellations or no-shows. The typical reasons for cancellations include change of plans, scheduling conflicts, etc. This is often made easier by the option to do so free of charge or preferably at a low cost, which benefits hotel guests. However, it is a less desirable and potentially revenue-diminishing factor for hotels. Such losses are particularly high for last-minute cancellations.\n",
        "\n",
        "New technologies involving online booking channels have dramatically changed customers' booking possibilities and behavior, adding further complexity to how hotels manage cancellations. These are no longer limited to traditional booking and guest characteristics.\n",
        "\n",
        "Cancellations impact hotels in several ways:\n",
        "1. **Loss of resources** (revenue) when the hotel cannot resell the room.\n",
        "2. **Additional distribution costs**, including increased commissions or paying for publicity to help sell these rooms.\n",
        "3. **Last-minute price reductions** to resell a room, lowering the profit margin.\n",
        "4. **Increased human resource needs** to manage guest arrangements.\n",
        "\n",
        "#### Objective\n",
        "The rising number of cancellations calls for a Machine Learning-based solution to predict which bookings are likely to be canceled. INN Hotels Group, a hotel chain in Portugal, is facing problems with high booking cancellations. They have sought out your firm for a data-driven solution. As a data scientist, your task is to analyze the provided data to identify the factors most influential on booking cancellations. You will then build a predictive model to anticipate cancellations in advance, helping the hotel formulate profitable cancellation and refund policies.\n",
        "\n",
        "---\n",
        "### Data Dictionary\n",
        "\n",
        "The data contains the different attributes of customers' booking details. Below is a detailed description of the fields in the dataset.\n",
        "\n",
        "- **Booking_ID**: The unique identifier of each booking.\n",
        "- **no_of_adults**: Number of adults.\n",
        "- **no_of_children**: Number of children.\n",
        "- **no_of_weekend_nights**: Number of weekend nights (Saturday or Sunday) the guest stayed or booked to stay at the hotel.\n",
        "- **no_of_week_nights**: Number of weeknights (Monday to Friday) the guest stayed or booked to stay at the hotel.\n",
        "- **type_of_meal_plan**: Type of meal plan booked by the customer:\n",
        "  - Not Selected – No meal plan selected.\n",
        "  - Meal Plan 1 – Breakfast.\n",
        "  - Meal Plan 2 – Half board (breakfast and one other meal).\n",
        "  - Meal Plan 3 – Full board (breakfast, lunch, and dinner).\n",
        "- **required_car_parking_space**: Does the customer require a car parking space? (0 - No, 1 - Yes).\n",
        "- **room_type_reserved**: Type of room reserved by the customer. The values are encoded by INN Hotels Group.\n",
        "- **lead_time**: Number of days between the date of booking and the arrival date.\n",
        "- **arrival_year**: Year of arrival date.\n",
        "- **arrival_month**: Month of arrival date.\n",
        "- **arrival_date**: Day of the month of arrival.\n",
        "- **market_segment_type**: Market segment designation.\n",
        "- **repeated_guest**: Is the customer a repeated guest? (0 - No, 1 - Yes).\n",
        "- **no_of_previous_cancellations**: Number of previous bookings canceled by the customer before the current booking.\n",
        "- **no_of_previous_bookings_not_canceled**: Number of previous bookings not canceled by the customer before the current booking.\n",
        "- **avg_price_per_room**: Average price per day of the reservation; prices of the rooms are dynamic (in euros).\n",
        "- **no_of_special_requests**: Total number of special requests made by the customer (e.g., high floor, room view, etc.).\n",
        "- **booking_status**: Flag indicating if the booking was canceled or not.\n"
      ],
      "metadata": {
        "id": "w2NH6SzNrgpP"
      }
    },
    {
      "cell_type": "code",
      "execution_count": null,
      "metadata": {
        "id": "PstfsB2drChp"
      },
      "outputs": [],
      "source": []
    }
  ]
}